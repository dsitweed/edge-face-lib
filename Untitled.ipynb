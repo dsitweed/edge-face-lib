{
 "cells": [
  {
   "cell_type": "code",
   "execution_count": 1,
   "id": "777774fd-9352-4582-b76d-20db4063faff",
   "metadata": {},
   "outputs": [
    {
     "name": "stderr",
     "output_type": "stream",
     "text": [
      "/home/ky/NguyenVanKy/2023_2/bob.paper.tbiom2023_edgeface/face_alignment/mtcnn_pytorch/src/align_trans.py:287: SyntaxWarning: \"is\" with 'str' literal. Did you mean \"==\"?\n",
      "  if align_type is 'cv2_affine':\n",
      "/home/ky/NguyenVanKy/2023_2/bob.paper.tbiom2023_edgeface/face_alignment/mtcnn_pytorch/src/align_trans.py:290: SyntaxWarning: \"is\" with 'str' literal. Did you mean \"==\"?\n",
      "  elif align_type is 'affine':\n",
      "/home/ky/anaconda3/envs/edge/lib/python3.12/site-packages/tqdm/auto.py:21: TqdmWarning: IProgress not found. Please update jupyter and ipywidgets. See https://ipywidgets.readthedocs.io/en/stable/user_install.html\n",
      "  from .autonotebook import tqdm as notebook_tqdm\n"
     ]
    }
   ],
   "source": [
    "import torch\n",
    "from torchvision import transforms\n",
    "from face_alignment import align\n",
    "from backbones import get_model\n"
   ]
  },
  {
   "cell_type": "code",
   "execution_count": 5,
   "id": "430e150a-20bf-4f6b-b59d-44e37f4124be",
   "metadata": {},
   "outputs": [
    {
     "name": "stdout",
     "output_type": "stream",
     "text": [
      "torch.Size([1, 512])\n"
     ]
    },
    {
     "name": "stderr",
     "output_type": "stream",
     "text": [
      "/home/ky/NguyenVanKy/2023_2/bob.paper.tbiom2023_edgeface/face_alignment/mtcnn_pytorch/src/matlab_cp2tform.py:90: FutureWarning: `rcond` parameter will change to the default of machine precision times ``max(M, N)`` where M and N are the input matrix dimensions.\n",
      "To use the future default and silence this warning we advise to pass `rcond=None`, to keep using the old, explicitly pass `rcond=-1`.\n",
      "  r, _, _, _ = lstsq(X, U)\n"
     ]
    }
   ],
   "source": [
    "arch=\"edgeface_s_gamma_05\" # or edgeface_xs_gamma_06\n",
    "model=get_model(arch)\n",
    "\n",
    "transform = transforms.Compose([\n",
    "            transforms.ToTensor(),\n",
    "            transforms.Normalize(mean=[0.5, 0.5, 0.5], std=[0.5, 0.5, 0.5]),\n",
    "            ])\n",
    "\n",
    "checkpoint_path='./checkpoints/edgeface_s_gamma_05.pt'\n",
    "model.load_state_dict(torch.load(checkpoint_path, map_location='cpu'))\n",
    "model.eval()\n",
    "path = 'checkpoints/synthface.jpeg'\n",
    "aligned = align.get_aligned_face(path)\n",
    "transformed_input = transform(aligned).unsqueeze(0)\n",
    "embedding = model(transformed_input)\n",
    "print(embedding.shape)\n"
   ]
  },
  {
   "cell_type": "code",
   "execution_count": null,
   "id": "b5a9a7e9-ae4d-4f15-ad9a-026dc39d2fb4",
   "metadata": {},
   "outputs": [],
   "source": []
  }
 ],
 "metadata": {
  "kernelspec": {
   "display_name": "Python 3 (ipykernel)",
   "language": "python",
   "name": "python3"
  },
  "language_info": {
   "codemirror_mode": {
    "name": "ipython",
    "version": 3
   },
   "file_extension": ".py",
   "mimetype": "text/x-python",
   "name": "python",
   "nbconvert_exporter": "python",
   "pygments_lexer": "ipython3",
   "version": "3.12.2"
  }
 },
 "nbformat": 4,
 "nbformat_minor": 5
}
